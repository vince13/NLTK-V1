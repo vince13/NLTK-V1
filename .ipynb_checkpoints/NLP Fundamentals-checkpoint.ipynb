{
 "cells": [
  {
   "cell_type": "markdown",
   "id": "50c6f250",
   "metadata": {},
   "source": [
    "## 1. Tokenization"
   ]
  },
  {
   "cell_type": "code",
   "execution_count": 1,
   "id": "9282ce74",
   "metadata": {},
   "outputs": [
    {
     "name": "stdout",
     "output_type": "stream",
     "text": [
      "\r\n",
      "\u001b[1m[\u001b[0m\u001b[34;49mnotice\u001b[0m\u001b[1;39;49m]\u001b[0m\u001b[39;49m A new release of pip is available: \u001b[0m\u001b[31;49m23.3.1\u001b[0m\u001b[39;49m -> \u001b[0m\u001b[32;49m24.0\u001b[0m\r\n",
      "\u001b[1m[\u001b[0m\u001b[34;49mnotice\u001b[0m\u001b[1;39;49m]\u001b[0m\u001b[39;49m To update, run: \u001b[0m\u001b[32;49mpip install --upgrade pip\u001b[0m\r\n"
     ]
    }
   ],
   "source": [
    "! pip install -q nltk"
   ]
  },
  {
   "cell_type": "code",
   "execution_count": 2,
   "id": "c5fe2019",
   "metadata": {},
   "outputs": [],
   "source": [
    "import nltk"
   ]
  },
  {
   "cell_type": "code",
   "execution_count": 3,
   "id": "c7c66d45",
   "metadata": {},
   "outputs": [],
   "source": [
    "from nltk.tokenize import word_tokenize\n",
    "from nltk.tokenize import sent_tokenize"
   ]
  },
  {
   "cell_type": "code",
   "execution_count": 4,
   "id": "f426dc4a",
   "metadata": {},
   "outputs": [],
   "source": [
    "dataset = \"Hello! welcome to this visual meeting now. I hope you are glad. Today is another day to learn about Natural Language Processing. I hope you are excite as I am.\""
   ]
  },
  {
   "cell_type": "code",
   "execution_count": 5,
   "id": "b6f4caae",
   "metadata": {},
   "outputs": [],
   "source": [
    "# dataset = input(\"Enter your review: \")"
   ]
  },
  {
   "cell_type": "code",
   "execution_count": 6,
   "id": "d267af27",
   "metadata": {},
   "outputs": [
    {
     "name": "stdout",
     "output_type": "stream",
     "text": [
      "['Hello!', 'welcome to this visual meeting now.', 'I hope you are glad.', 'Today is another day to learn about Natural Language Processing.', 'I hope you are excite as I am.']\n"
     ]
    }
   ],
   "source": [
    "# Tokenizing Sentences\n",
    "\n",
    "print(sent_tokenize(text=dataset, language=\"english\"))"
   ]
  },
  {
   "cell_type": "code",
   "execution_count": 7,
   "id": "0e568406",
   "metadata": {},
   "outputs": [
    {
     "data": {
      "text/plain": [
       "['Hello!',\n",
       " 'welcome to this visual meeting now.',\n",
       " 'I hope you are glad.',\n",
       " 'Today is another day to learn about Natural Language Processing.',\n",
       " 'I hope you are excite as I am.']"
      ]
     },
     "execution_count": 7,
     "metadata": {},
     "output_type": "execute_result"
    }
   ],
   "source": [
    "sent_token = sent_tokenize(text=dataset, language=\"english\")\n",
    "sent_token"
   ]
  },
  {
   "cell_type": "code",
   "execution_count": 8,
   "id": "7f0614fe",
   "metadata": {},
   "outputs": [
    {
     "name": "stdout",
     "output_type": "stream",
     "text": [
      "Hello!\n",
      "welcome to this visual meeting now.\n",
      "I hope you are glad.\n",
      "Today is another day to learn about Natural Language Processing.\n",
      "I hope you are excite as I am.\n"
     ]
    }
   ],
   "source": [
    "for i in sent_token:\n",
    "    print(i)"
   ]
  },
  {
   "cell_type": "code",
   "execution_count": 9,
   "id": "8afe135a",
   "metadata": {},
   "outputs": [],
   "source": [
    "# Tokenizing Words\n",
    "\n",
    "word_token = word_tokenize(text=dataset, language=\"english\")"
   ]
  },
  {
   "cell_type": "code",
   "execution_count": 10,
   "id": "a0dfcb76",
   "metadata": {},
   "outputs": [
    {
     "data": {
      "text/plain": [
       "['Hello',\n",
       " '!',\n",
       " 'welcome',\n",
       " 'to',\n",
       " 'this',\n",
       " 'visual',\n",
       " 'meeting',\n",
       " 'now',\n",
       " '.',\n",
       " 'I',\n",
       " 'hope',\n",
       " 'you',\n",
       " 'are',\n",
       " 'glad',\n",
       " '.',\n",
       " 'Today',\n",
       " 'is',\n",
       " 'another',\n",
       " 'day',\n",
       " 'to',\n",
       " 'learn',\n",
       " 'about',\n",
       " 'Natural',\n",
       " 'Language',\n",
       " 'Processing',\n",
       " '.',\n",
       " 'I',\n",
       " 'hope',\n",
       " 'you',\n",
       " 'are',\n",
       " 'excite',\n",
       " 'as',\n",
       " 'I',\n",
       " 'am',\n",
       " '.']"
      ]
     },
     "execution_count": 10,
     "metadata": {},
     "output_type": "execute_result"
    }
   ],
   "source": [
    "word_token"
   ]
  },
  {
   "cell_type": "code",
   "execution_count": 11,
   "id": "8c3fe709",
   "metadata": {},
   "outputs": [
    {
     "name": "stdout",
     "output_type": "stream",
     "text": [
      "Hello ! welcome to this visual meeting now . I hope you are glad . Today is another day to learn about Natural Language Processing . I hope you are excite as I am . "
     ]
    }
   ],
   "source": [
    "# for i in word_tokenize(text=dataset, language=\"english\")\n",
    "\n",
    "for i in word_token:\n",
    "    print(i, end=\" \")"
   ]
  },
  {
   "cell_type": "markdown",
   "id": "c3705b33",
   "metadata": {},
   "source": [
    "## 2. Stemming"
   ]
  },
  {
   "cell_type": "code",
   "execution_count": 12,
   "id": "6e6f5de8",
   "metadata": {},
   "outputs": [],
   "source": [
    "import nltk\n",
    "from nltk.stem import PorterStemmer\n",
    "from nltk.tokenize import word_tokenize"
   ]
  },
  {
   "cell_type": "code",
   "execution_count": 13,
   "id": "8336556c",
   "metadata": {},
   "outputs": [],
   "source": [
    "dataset = [\"love\", \"loving\", \"lover\", \"lovingly\", \"loved\"]"
   ]
  },
  {
   "cell_type": "code",
   "execution_count": 14,
   "id": "ef82927f",
   "metadata": {},
   "outputs": [],
   "source": [
    "# Apply Stemming\n",
    "ps = PorterStemmer()"
   ]
  },
  {
   "cell_type": "code",
   "execution_count": 15,
   "id": "00536894",
   "metadata": {},
   "outputs": [
    {
     "name": "stdout",
     "output_type": "stream",
     "text": [
      "love\n",
      "love\n",
      "lover\n",
      "lovingli\n",
      "love\n"
     ]
    }
   ],
   "source": [
    "for i in dataset:\n",
    "    print(ps.stem(i))"
   ]
  },
  {
   "cell_type": "code",
   "execution_count": 16,
   "id": "edc768f6",
   "metadata": {},
   "outputs": [],
   "source": [
    "new_data = \"\"\"It feels special to learn how to program in python.\n",
    "Programming is the most relevant and best \n",
    "career choice anyone can make from this century onwards. \n",
    "Go Be Happy!\n",
    "\"\"\""
   ]
  },
  {
   "cell_type": "code",
   "execution_count": 17,
   "id": "93a7561f",
   "metadata": {},
   "outputs": [
    {
     "name": "stdout",
     "output_type": "stream",
     "text": [
      "['It', 'feels', 'special', 'to', 'learn', 'how', 'to', 'program', 'in', 'python', '.', 'Programming', 'is', 'the', 'most', 'relevant', 'and', 'best', 'career', 'choice', 'anyone', 'can', 'make', 'from', 'this', 'century', 'onwards', '.', 'Go', 'Be', 'Happy', '!'] "
     ]
    }
   ],
   "source": [
    "words = word_tokenize(new_data)\n",
    "print(words, end=\" \")"
   ]
  },
  {
   "cell_type": "code",
   "execution_count": 18,
   "id": "2e643c84",
   "metadata": {},
   "outputs": [
    {
     "name": "stdout",
     "output_type": "stream",
     "text": [
      "it\n",
      "feel\n",
      "special\n",
      "to\n",
      "learn\n",
      "how\n",
      "to\n",
      "program\n",
      "in\n",
      "python\n",
      ".\n",
      "program\n",
      "is\n",
      "the\n",
      "most\n",
      "relev\n",
      "and\n",
      "best\n",
      "career\n",
      "choic\n",
      "anyon\n",
      "can\n",
      "make\n",
      "from\n",
      "thi\n",
      "centuri\n",
      "onward\n",
      ".\n",
      "go\n",
      "be\n",
      "happi\n",
      "!\n"
     ]
    }
   ],
   "source": [
    "for word in words:\n",
    "    print(ps.stem(word))"
   ]
  },
  {
   "cell_type": "markdown",
   "id": "9c0d1825",
   "metadata": {},
   "source": [
    "## 3. Lemmatization"
   ]
  },
  {
   "cell_type": "code",
   "execution_count": 19,
   "id": "8e047d97",
   "metadata": {},
   "outputs": [],
   "source": [
    "import nltk\n",
    "from nltk.stem import WordNetLemmatizer"
   ]
  },
  {
   "cell_type": "code",
   "execution_count": 20,
   "id": "d21dfb01",
   "metadata": {},
   "outputs": [],
   "source": [
    "wnl = WordNetLemmatizer()"
   ]
  },
  {
   "cell_type": "code",
   "execution_count": 21,
   "id": "d208447d",
   "metadata": {},
   "outputs": [
    {
     "data": {
      "text/plain": [
       "'church'"
      ]
     },
     "execution_count": 21,
     "metadata": {},
     "output_type": "execute_result"
    }
   ],
   "source": [
    "wnl.lemmatize(\"churches\")"
   ]
  },
  {
   "cell_type": "code",
   "execution_count": 22,
   "id": "e791f3d7",
   "metadata": {},
   "outputs": [
    {
     "data": {
      "text/plain": [
       "'dog'"
      ]
     },
     "execution_count": 22,
     "metadata": {},
     "output_type": "execute_result"
    }
   ],
   "source": [
    "wnl.lemmatize(\"dogs\")"
   ]
  },
  {
   "cell_type": "code",
   "execution_count": 23,
   "id": "1abe6fca",
   "metadata": {},
   "outputs": [
    {
     "data": {
      "text/plain": [
       "'foot'"
      ]
     },
     "execution_count": 23,
     "metadata": {},
     "output_type": "execute_result"
    }
   ],
   "source": [
    "wnl.lemmatize(\"feet\")"
   ]
  },
  {
   "cell_type": "code",
   "execution_count": 24,
   "id": "113b0cde",
   "metadata": {},
   "outputs": [
    {
     "data": {
      "text/plain": [
       "'good'"
      ]
     },
     "execution_count": 24,
     "metadata": {},
     "output_type": "execute_result"
    }
   ],
   "source": [
    "wnl.lemmatize(\"better\", pos=\"a\")"
   ]
  },
  {
   "cell_type": "code",
   "execution_count": 25,
   "id": "e1983368",
   "metadata": {},
   "outputs": [],
   "source": [
    "new_data = \"\"\"It feels special to learn how to program in python.\n",
    "Programming is the most relevant and best \n",
    "career choice anyone can make from this century onwards. \n",
    "Go Be Happy!\n",
    "\"\"\""
   ]
  },
  {
   "cell_type": "code",
   "execution_count": 26,
   "id": "701e5a2b",
   "metadata": {},
   "outputs": [
    {
     "name": "stdout",
     "output_type": "stream",
     "text": [
      "teeth\n"
     ]
    }
   ],
   "source": [
    "noun_lemma = wnl.lemmatize(\"teeth\")\n",
    "print(noun_lemma)"
   ]
  },
  {
   "cell_type": "markdown",
   "id": "f62a6b9a",
   "metadata": {},
   "source": [
    "## 4. Stop Words"
   ]
  },
  {
   "cell_type": "code",
   "execution_count": 27,
   "id": "9d4e6376",
   "metadata": {},
   "outputs": [],
   "source": [
    "import nltk\n",
    "from nltk.corpus import stopwords\n",
    "from nltk.tokenize import word_tokenize"
   ]
  },
  {
   "cell_type": "code",
   "execution_count": 28,
   "id": "3b00390b",
   "metadata": {
    "collapsed": true
   },
   "outputs": [
    {
     "name": "stdout",
     "output_type": "stream",
     "text": [
      "{'once', 'during', 'after', 'before', \"mightn't\", 'that', 'was', 'y', 'doing', 'himself', 'ma', 'any', 'have', 'who', 'by', 'not', 'she', \"don't\", 'your', 'my', 'too', 'you', 'they', 'how', 'his', 'shouldn', 'we', 'the', 'mustn', 'both', 'which', 'are', 'd', \"shouldn't\", 'being', 'just', \"you're\", 'again', 'our', \"didn't\", \"won't\", 're', \"doesn't\", 'won', 'below', 'been', 'theirs', 'them', 'had', 'couldn', 'm', 'did', 'me', 'these', 'out', 's', 'he', 'him', 'up', \"wasn't\", 'be', 'so', 'but', 'were', 'on', \"mustn't\", 'such', \"she's\", 'those', 'ourselves', 'why', 'down', 'further', 'when', 'having', 'wasn', 'weren', 'yourselves', 'than', 've', 'does', 'what', \"you'd\", 'ours', 'above', 'with', 'yourself', 'no', 'itself', 'where', 'all', 'a', 'off', 'don', \"weren't\", 'their', 'should', 'here', 'other', 'didn', \"shan't\", 'into', 'while', 'over', 'of', 'to', 'hers', 'only', \"couldn't\", 'because', 'isn', 'few', 'is', 'own', 'aren', 'more', \"haven't\", 'it', 'i', \"hasn't\", \"aren't\", 'hadn', 'this', 'and', 'shan', \"should've\", 'hasn', 'am', 'o', \"needn't\", \"wouldn't\", 'at', 'against', 't', 'yours', 'some', 'same', \"hadn't\", 'do', 'now', 'until', 'in', 'mightn', 'for', 'through', 'wouldn', 'haven', \"it's\", 'will', \"that'll\", 'under', \"you'll\", 'can', 'as', 'ain', \"isn't\", 'll', 'her', 'needn', 'there', 'then', 'between', 'its', 'if', 'most', 'has', 'doesn', 'an', \"you've\", 'about', 'very', 'or', 'from', 'themselves', 'myself', 'nor', 'whom', 'herself', 'each'}\n"
     ]
    }
   ],
   "source": [
    "stop_words = set(stopwords.words(\"english\"))\n",
    "print(stop_words)"
   ]
  },
  {
   "cell_type": "code",
   "execution_count": 29,
   "id": "85bd3e89",
   "metadata": {},
   "outputs": [],
   "source": [
    "new_data = \"\"\"It feels special to learn how to program in python.\n",
    "Programming is the most relevant and best \n",
    "career choice anyone can make from this century onwards. \n",
    "Go Be Happy!\n",
    "\"\"\""
   ]
  },
  {
   "cell_type": "code",
   "execution_count": 30,
   "id": "d6657a7b",
   "metadata": {
    "collapsed": true
   },
   "outputs": [
    {
     "data": {
      "text/plain": [
       "['It',\n",
       " 'feels',\n",
       " 'special',\n",
       " 'to',\n",
       " 'learn',\n",
       " 'how',\n",
       " 'to',\n",
       " 'program',\n",
       " 'in',\n",
       " 'python',\n",
       " '.',\n",
       " 'Programming',\n",
       " 'is',\n",
       " 'the',\n",
       " 'most',\n",
       " 'relevant',\n",
       " 'and',\n",
       " 'best',\n",
       " 'career',\n",
       " 'choice',\n",
       " 'anyone',\n",
       " 'can',\n",
       " 'make',\n",
       " 'from',\n",
       " 'this',\n",
       " 'century',\n",
       " 'onwards',\n",
       " '.',\n",
       " 'Go',\n",
       " 'Be',\n",
       " 'Happy',\n",
       " '!']"
      ]
     },
     "execution_count": 30,
     "metadata": {},
     "output_type": "execute_result"
    }
   ],
   "source": [
    "# Tokenize words\n",
    "word_tokenize = word_tokenize(new_data)\n",
    "word_tokenize"
   ]
  },
  {
   "cell_type": "code",
   "execution_count": 31,
   "id": "06107262",
   "metadata": {},
   "outputs": [
    {
     "name": "stdout",
     "output_type": "stream",
     "text": [
      "['It', 'feels', 'special', 'learn', 'program', 'python', '.', 'Programming', 'relevant', 'best', 'career', 'choice', 'anyone', 'make', 'century', 'onwards', '.', 'Go', 'Be', 'Happy', '!']\n"
     ]
    }
   ],
   "source": [
    "# Remove Stop Words from dataset\n",
    "filtered_sentences = []\n",
    "\n",
    "for word in word_tokenize:\n",
    "    if word not in stop_words:\n",
    "        filtered_sentences.append(word)\n",
    "\n",
    "print(filtered_sentences)"
   ]
  },
  {
   "cell_type": "markdown",
   "id": "9caca192",
   "metadata": {},
   "source": [
    "## 5. POS Tagging"
   ]
  },
  {
   "cell_type": "code",
   "execution_count": 32,
   "id": "6bae5924",
   "metadata": {},
   "outputs": [],
   "source": [
    "# importing the libraries\n",
    "import nltk\n",
    "\n",
    "from nltk.tokenize import word_tokenize\n",
    "from nltk.tag import pos_tag"
   ]
  },
  {
   "cell_type": "code",
   "execution_count": 33,
   "id": "d306dcbc",
   "metadata": {},
   "outputs": [],
   "source": [
    "dataset = \"\"\" Taj Mahal is one of the world's most iconic and celebrated structures.\n",
    "It is a stunning symbol of rich Indian history\n",
    "\"\"\""
   ]
  },
  {
   "cell_type": "code",
   "execution_count": 34,
   "id": "6a09ff03",
   "metadata": {},
   "outputs": [
    {
     "name": "stdout",
     "output_type": "stream",
     "text": [
      "['Taj', 'Mahal', 'is', 'one', 'of', 'the', 'world', \"'s\", 'most', 'iconic', 'and', 'celebrated', 'structures', '.', 'It', 'is', 'a', 'stunning', 'symbol', 'of', 'rich', 'Indian', 'history']\n"
     ]
    }
   ],
   "source": [
    "data = word_tokenize(dataset)\n",
    "print(data)"
   ]
  },
  {
   "cell_type": "code",
   "execution_count": 35,
   "id": "a457ab31",
   "metadata": {
    "collapsed": true
   },
   "outputs": [
    {
     "data": {
      "text/plain": [
       "[('Taj', 'NNP'),\n",
       " ('Mahal', 'NNP'),\n",
       " ('is', 'VBZ'),\n",
       " ('one', 'CD'),\n",
       " ('of', 'IN'),\n",
       " ('the', 'DT'),\n",
       " ('world', 'NN'),\n",
       " (\"'s\", 'POS'),\n",
       " ('most', 'RBS'),\n",
       " ('iconic', 'JJ'),\n",
       " ('and', 'CC'),\n",
       " ('celebrated', 'JJ'),\n",
       " ('structures', 'NNS'),\n",
       " ('.', '.'),\n",
       " ('It', 'PRP'),\n",
       " ('is', 'VBZ'),\n",
       " ('a', 'DT'),\n",
       " ('stunning', 'JJ'),\n",
       " ('symbol', 'NN'),\n",
       " ('of', 'IN'),\n",
       " ('rich', 'JJ'),\n",
       " ('Indian', 'JJ'),\n",
       " ('history', 'NN')]"
      ]
     },
     "execution_count": 35,
     "metadata": {},
     "output_type": "execute_result"
    }
   ],
   "source": [
    "pos_tag(data)"
   ]
  },
  {
   "cell_type": "code",
   "execution_count": 36,
   "id": "fb0ee078",
   "metadata": {
    "collapsed": true
   },
   "outputs": [
    {
     "name": "stdout",
     "output_type": "stream",
     "text": [
      "$: dollar\n",
      "    $ -$ --$ A$ C$ HK$ M$ NZ$ S$ U.S.$ US$\n",
      "'': closing quotation mark\n",
      "    ' ''\n",
      "(: opening parenthesis\n",
      "    ( [ {\n",
      "): closing parenthesis\n",
      "    ) ] }\n",
      ",: comma\n",
      "    ,\n",
      "--: dash\n",
      "    --\n",
      ".: sentence terminator\n",
      "    . ! ?\n",
      ":: colon or ellipsis\n",
      "    : ; ...\n",
      "CC: conjunction, coordinating\n",
      "    & 'n and both but either et for less minus neither nor or plus so\n",
      "    therefore times v. versus vs. whether yet\n",
      "CD: numeral, cardinal\n",
      "    mid-1890 nine-thirty forty-two one-tenth ten million 0.5 one forty-\n",
      "    seven 1987 twenty '79 zero two 78-degrees eighty-four IX '60s .025\n",
      "    fifteen 271,124 dozen quintillion DM2,000 ...\n",
      "DT: determiner\n",
      "    all an another any both del each either every half la many much nary\n",
      "    neither no some such that the them these this those\n",
      "EX: existential there\n",
      "    there\n",
      "FW: foreign word\n",
      "    gemeinschaft hund ich jeux habeas Haementeria Herr K'ang-si vous\n",
      "    lutihaw alai je jour objets salutaris fille quibusdam pas trop Monte\n",
      "    terram fiche oui corporis ...\n",
      "IN: preposition or conjunction, subordinating\n",
      "    astride among uppon whether out inside pro despite on by throughout\n",
      "    below within for towards near behind atop around if like until below\n",
      "    next into if beside ...\n",
      "JJ: adjective or numeral, ordinal\n",
      "    third ill-mannered pre-war regrettable oiled calamitous first separable\n",
      "    ectoplasmic battery-powered participatory fourth still-to-be-named\n",
      "    multilingual multi-disciplinary ...\n",
      "JJR: adjective, comparative\n",
      "    bleaker braver breezier briefer brighter brisker broader bumper busier\n",
      "    calmer cheaper choosier cleaner clearer closer colder commoner costlier\n",
      "    cozier creamier crunchier cuter ...\n",
      "JJS: adjective, superlative\n",
      "    calmest cheapest choicest classiest cleanest clearest closest commonest\n",
      "    corniest costliest crassest creepiest crudest cutest darkest deadliest\n",
      "    dearest deepest densest dinkiest ...\n",
      "LS: list item marker\n",
      "    A A. B B. C C. D E F First G H I J K One SP-44001 SP-44002 SP-44005\n",
      "    SP-44007 Second Third Three Two * a b c d first five four one six three\n",
      "    two\n",
      "MD: modal auxiliary\n",
      "    can cannot could couldn't dare may might must need ought shall should\n",
      "    shouldn't will would\n",
      "NN: noun, common, singular or mass\n",
      "    common-carrier cabbage knuckle-duster Casino afghan shed thermostat\n",
      "    investment slide humour falloff slick wind hyena override subhumanity\n",
      "    machinist ...\n",
      "NNP: noun, proper, singular\n",
      "    Motown Venneboerger Czestochwa Ranzer Conchita Trumplane Christos\n",
      "    Oceanside Escobar Kreisler Sawyer Cougar Yvette Ervin ODI Darryl CTCA\n",
      "    Shannon A.K.C. Meltex Liverpool ...\n",
      "NNPS: noun, proper, plural\n",
      "    Americans Americas Amharas Amityvilles Amusements Anarcho-Syndicalists\n",
      "    Andalusians Andes Andruses Angels Animals Anthony Antilles Antiques\n",
      "    Apache Apaches Apocrypha ...\n",
      "NNS: noun, common, plural\n",
      "    undergraduates scotches bric-a-brac products bodyguards facets coasts\n",
      "    divestitures storehouses designs clubs fragrances averages\n",
      "    subjectivists apprehensions muses factory-jobs ...\n",
      "PDT: pre-determiner\n",
      "    all both half many quite such sure this\n",
      "POS: genitive marker\n",
      "    ' 's\n",
      "PRP: pronoun, personal\n",
      "    hers herself him himself hisself it itself me myself one oneself ours\n",
      "    ourselves ownself self she thee theirs them themselves they thou thy us\n",
      "PRP$: pronoun, possessive\n",
      "    her his mine my our ours their thy your\n",
      "RB: adverb\n",
      "    occasionally unabatingly maddeningly adventurously professedly\n",
      "    stirringly prominently technologically magisterially predominately\n",
      "    swiftly fiscally pitilessly ...\n",
      "RBR: adverb, comparative\n",
      "    further gloomier grander graver greater grimmer harder harsher\n",
      "    healthier heavier higher however larger later leaner lengthier less-\n",
      "    perfectly lesser lonelier longer louder lower more ...\n",
      "RBS: adverb, superlative\n",
      "    best biggest bluntest earliest farthest first furthest hardest\n",
      "    heartiest highest largest least less most nearest second tightest worst\n",
      "RP: particle\n",
      "    aboard about across along apart around aside at away back before behind\n",
      "    by crop down ever fast for forth from go high i.e. in into just later\n",
      "    low more off on open out over per pie raising start teeth that through\n",
      "    under unto up up-pp upon whole with you\n",
      "SYM: symbol\n",
      "    % & ' '' ''. ) ). * + ,. < = > @ A[fj] U.S U.S.S.R * ** ***\n",
      "TO: \"to\" as preposition or infinitive marker\n",
      "    to\n",
      "UH: interjection\n",
      "    Goodbye Goody Gosh Wow Jeepers Jee-sus Hubba Hey Kee-reist Oops amen\n",
      "    huh howdy uh dammit whammo shucks heck anyways whodunnit honey golly\n",
      "    man baby diddle hush sonuvabitch ...\n",
      "VB: verb, base form\n",
      "    ask assemble assess assign assume atone attention avoid bake balkanize\n",
      "    bank begin behold believe bend benefit bevel beware bless boil bomb\n",
      "    boost brace break bring broil brush build ...\n",
      "VBD: verb, past tense\n",
      "    dipped pleaded swiped regummed soaked tidied convened halted registered\n",
      "    cushioned exacted snubbed strode aimed adopted belied figgered\n",
      "    speculated wore appreciated contemplated ...\n",
      "VBG: verb, present participle or gerund\n",
      "    telegraphing stirring focusing angering judging stalling lactating\n",
      "    hankerin' alleging veering capping approaching traveling besieging\n",
      "    encrypting interrupting erasing wincing ...\n",
      "VBN: verb, past participle\n",
      "    multihulled dilapidated aerosolized chaired languished panelized used\n",
      "    experimented flourished imitated reunifed factored condensed sheared\n",
      "    unsettled primed dubbed desired ...\n",
      "VBP: verb, present tense, not 3rd person singular\n",
      "    predominate wrap resort sue twist spill cure lengthen brush terminate\n",
      "    appear tend stray glisten obtain comprise detest tease attract\n",
      "    emphasize mold postpone sever return wag ...\n",
      "VBZ: verb, present tense, 3rd person singular\n",
      "    bases reconstructs marks mixes displeases seals carps weaves snatches\n",
      "    slumps stretches authorizes smolders pictures emerges stockpiles\n",
      "    seduces fizzes uses bolsters slaps speaks pleads ...\n",
      "WDT: WH-determiner\n",
      "    that what whatever which whichever\n",
      "WP: WH-pronoun\n",
      "    that what whatever whatsoever which who whom whosoever\n",
      "WP$: WH-pronoun, possessive\n",
      "    whose\n",
      "WRB: Wh-adverb\n",
      "    how however whence whenever where whereby whereever wherein whereof why\n",
      "``: opening quotation mark\n",
      "    ` ``\n"
     ]
    }
   ],
   "source": [
    "nltk.help.upenn_tagset()"
   ]
  },
  {
   "cell_type": "markdown",
   "id": "7236a738",
   "metadata": {},
   "source": [
    "## 6. Chunking"
   ]
  },
  {
   "cell_type": "code",
   "execution_count": 37,
   "id": "8da599e1",
   "metadata": {},
   "outputs": [],
   "source": [
    "import nltk\n",
    "from nltk.tokenize import word_tokenize\n",
    "from nltk.tag import pos_tag\n",
    "from nltk.chunk import RegexpParser"
   ]
  },
  {
   "cell_type": "code",
   "execution_count": 38,
   "id": "f32a75f4",
   "metadata": {},
   "outputs": [],
   "source": [
    "dataset = \"\"\" Taj Mahal is one of the world's most iconic and celebrated structures.\n",
    "It is a stunning symbol of rich Indian history\n",
    "\"\"\""
   ]
  },
  {
   "cell_type": "code",
   "execution_count": 43,
   "id": "313c3c2a",
   "metadata": {},
   "outputs": [
    {
     "name": "stdout",
     "output_type": "stream",
     "text": [
      "['Taj', 'Mahal', 'is', 'one', 'of', 'the', 'world', \"'s\", 'most', 'iconic', 'and', 'celebrated', 'structures', '.', 'It', 'is', 'a', 'stunning', 'symbol', 'of', 'rich', 'Indian', 'history'] "
     ]
    }
   ],
   "source": [
    "data = word_tokenize(dataset)\n",
    "\n",
    "print(data, end=\" \")"
   ]
  },
  {
   "cell_type": "code",
   "execution_count": 40,
   "id": "d3eaa7ba",
   "metadata": {
    "collapsed": true
   },
   "outputs": [
    {
     "data": {
      "text/plain": [
       "[('Taj', 'NNP'),\n",
       " ('Mahal', 'NNP'),\n",
       " ('is', 'VBZ'),\n",
       " ('one', 'CD'),\n",
       " ('of', 'IN'),\n",
       " ('the', 'DT'),\n",
       " ('world', 'NN'),\n",
       " (\"'s\", 'POS'),\n",
       " ('most', 'RBS'),\n",
       " ('iconic', 'JJ'),\n",
       " ('and', 'CC'),\n",
       " ('celebrated', 'JJ'),\n",
       " ('structures', 'NNS'),\n",
       " ('.', '.'),\n",
       " ('It', 'PRP'),\n",
       " ('is', 'VBZ'),\n",
       " ('a', 'DT'),\n",
       " ('stunning', 'JJ'),\n",
       " ('symbol', 'NN'),\n",
       " ('of', 'IN'),\n",
       " ('rich', 'JJ'),\n",
       " ('Indian', 'JJ'),\n",
       " ('history', 'NN')]"
      ]
     },
     "execution_count": 40,
     "metadata": {},
     "output_type": "execute_result"
    }
   ],
   "source": [
    "pos_tagging = pos_tag(data)\n",
    "pos_tagging"
   ]
  },
  {
   "cell_type": "code",
   "execution_count": 48,
   "id": "86b91fcc",
   "metadata": {},
   "outputs": [],
   "source": [
    "sequence_chunk = \"\"\"\n",
    "chunk:\n",
    "    {<NNPS>+}\n",
    "    {<NNP>+}\n",
    "    {<NN>+}\n",
    "    {<JJ>+}\n",
    "\n",
    "\"\"\""
   ]
  },
  {
   "cell_type": "code",
   "execution_count": 49,
   "id": "44f728e0",
   "metadata": {},
   "outputs": [],
   "source": [
    "chunk = RegexpParser(sequence_chunk)"
   ]
  },
  {
   "cell_type": "code",
   "execution_count": 52,
   "id": "1ca1a3ca",
   "metadata": {
    "collapsed": true
   },
   "outputs": [
    {
     "name": "stdout",
     "output_type": "stream",
     "text": [
      "(S\n",
      "  (chunk Taj/NNP Mahal/NNP)\n",
      "  is/VBZ\n",
      "  one/CD\n",
      "  of/IN\n",
      "  the/DT\n",
      "  (chunk world/NN)\n",
      "  's/POS\n",
      "  most/RBS\n",
      "  (chunk iconic/JJ)\n",
      "  and/CC\n",
      "  (chunk celebrated/JJ)\n",
      "  structures/NNS\n",
      "  ./.\n",
      "  It/PRP\n",
      "  is/VBZ\n",
      "  a/DT\n",
      "  (chunk stunning/JJ)\n",
      "  (chunk symbol/NN)\n",
      "  of/IN\n",
      "  (chunk rich/JJ Indian/JJ)\n",
      "  (chunk history/NN)) "
     ]
    }
   ],
   "source": [
    "chunk_results = chunk.parse(pos_tagging)\n",
    "print(chunk_results)"
   ]
  },
  {
   "cell_type": "markdown",
   "id": "bf9e0df0",
   "metadata": {},
   "source": [
    "## 7. Named Entity Recognition - NER"
   ]
  },
  {
   "cell_type": "code",
   "execution_count": 53,
   "id": "acc87311",
   "metadata": {},
   "outputs": [],
   "source": [
    "import nltk\n",
    "from nltk.tokenize import word_tokenize\n",
    "from nltk.tag import pos_tag\n",
    "from nltk.chunk import ne_chunk"
   ]
  },
  {
   "cell_type": "code",
   "execution_count": 54,
   "id": "99662198",
   "metadata": {},
   "outputs": [],
   "source": [
    "# Dataset\n",
    "\n",
    "dataset = \"\"\"Abraham Lincoln was an American statesman and a lawyer.\n",
    "He served as the 16th president of the United States. \n",
    "\"\"\"\n",
    "\n",
    "dataset2 = \"\"\"Chief Bola Ahmed Adekunle Tinubu GCFR \n",
    "(born 29 March 1952) is a Nigerian politician who is the 16th \n",
    "and current president of Nigeria. He was the governor of \n",
    "Lagos State from 1999 to 2007, and senator for Lagos West \n",
    "in the Third Republic.  \n",
    "\"\"\""
   ]
  },
  {
   "cell_type": "code",
   "execution_count": 55,
   "id": "937cb2a9",
   "metadata": {
    "collapsed": true
   },
   "outputs": [
    {
     "data": {
      "text/plain": [
       "[('Abraham', 'NNP'),\n",
       " ('Lincoln', 'NNP'),\n",
       " ('was', 'VBD'),\n",
       " ('an', 'DT'),\n",
       " ('American', 'JJ'),\n",
       " ('statesman', 'NN'),\n",
       " ('and', 'CC'),\n",
       " ('a', 'DT'),\n",
       " ('lawyer', 'NN'),\n",
       " ('.', '.'),\n",
       " ('He', 'PRP'),\n",
       " ('served', 'VBD'),\n",
       " ('as', 'IN'),\n",
       " ('the', 'DT'),\n",
       " ('16th', 'CD'),\n",
       " ('president', 'NN'),\n",
       " ('of', 'IN'),\n",
       " ('the', 'DT'),\n",
       " ('United', 'NNP'),\n",
       " ('States', 'NNPS'),\n",
       " ('.', '.')]"
      ]
     },
     "execution_count": 55,
     "metadata": {},
     "output_type": "execute_result"
    }
   ],
   "source": [
    "tag = pos_tag(word_tokenize(dataset))\n",
    "tag"
   ]
  },
  {
   "cell_type": "code",
   "execution_count": 56,
   "id": "e671d3ae",
   "metadata": {},
   "outputs": [],
   "source": [
    "# Apply Ne Chunk\n",
    "\n",
    "dataset_ner = ne_chunk(tag)"
   ]
  },
  {
   "cell_type": "code",
   "execution_count": 58,
   "id": "f1481143",
   "metadata": {
    "collapsed": true
   },
   "outputs": [
    {
     "name": "stdout",
     "output_type": "stream",
     "text": [
      "(S\n",
      "  (PERSON Abraham/NNP)\n",
      "  (PERSON Lincoln/NNP)\n",
      "  was/VBD\n",
      "  an/DT\n",
      "  (GPE American/JJ)\n",
      "  statesman/NN\n",
      "  and/CC\n",
      "  a/DT\n",
      "  lawyer/NN\n",
      "  ./.\n",
      "  He/PRP\n",
      "  served/VBD\n",
      "  as/IN\n",
      "  the/DT\n",
      "  16th/CD\n",
      "  president/NN\n",
      "  of/IN\n",
      "  the/DT\n",
      "  (GPE United/NNP States/NNPS)\n",
      "  ./.)\n"
     ]
    }
   ],
   "source": [
    "print(dataset_ner)"
   ]
  },
  {
   "cell_type": "code",
   "execution_count": 59,
   "id": "196be571",
   "metadata": {},
   "outputs": [],
   "source": [
    "dataset_ner.draw()"
   ]
  }
 ],
 "metadata": {
  "kernelspec": {
   "display_name": "Python 3 (ipykernel)",
   "language": "python",
   "name": "python3"
  },
  "language_info": {
   "codemirror_mode": {
    "name": "ipython",
    "version": 3
   },
   "file_extension": ".py",
   "mimetype": "text/x-python",
   "name": "python",
   "nbconvert_exporter": "python",
   "pygments_lexer": "ipython3",
   "version": "3.10.9"
  }
 },
 "nbformat": 4,
 "nbformat_minor": 5
}
